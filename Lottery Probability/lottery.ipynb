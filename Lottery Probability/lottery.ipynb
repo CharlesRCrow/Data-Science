{
 "cells": [
  {
   "cell_type": "markdown",
   "metadata": {},
   "source": [
    "# Mobile App for Lottery Addiction\n",
    "\n",
    "**Many people start playing the lottery for fun, but for some this activity turns into a habit which eventually escalates into addiction. Like other compulsive gamblers, lottery addicts soon begin spending from their savings and loans, they start to accumulate debts, and eventually engage in desperate behaviors like theft.**\n",
    "\n",
    "**What is the probability of winning the big prize with a single ticket?\n",
    "What is the probability of winning the big prize if we play 40 different tickets (or any other number)?\n",
    "What is the probability of having at least five (or four, or three, or two) winning numbers on a single ticket?**\n",
    "\n",
    "[Dataset](https://www.kaggle.com/datascienceai/lottery-dataset)"
   ]
  },
  {
   "cell_type": "code",
   "execution_count": 28,
   "metadata": {
    "collapsed": true
   },
   "outputs": [],
   "source": [
    "import pandas as pd\n",
    "\n",
    "# function to calculate n!\n",
    "def factorial(n):\n",
    "    result=1\n",
    "    for i in range(n,0,-1):\n",
    "        result*=i\n",
    "    return result \n",
    "\n",
    "# function outputs number of combinations (groups where order does not matter)\n",
    "# used for poker/lottery calculations\n",
    "def combinations(n,k):\n",
    "    result=factorial(n)/(factorial(k)*factorial(n-k))\n",
    "    return result\n",
    "\n",
    "# function outputs total permutations (lists where order matters)\n",
    "# useful for combination locks\n",
    "def permutation(n, k):\n",
    "    numerator = factorial(n)\n",
    "    denominator = factorial(n-k)\n",
    "    return numerator/denominator"
   ]
  },
  {
   "cell_type": "markdown",
   "metadata": {},
   "source": [
    "# One-ticket Probability\n",
    "\n",
    "**In 6/49 lottery, six numbers are picked out of a range of 1 to 49.  No numbers are replaced after being pulled.\n",
    "The first function to be created will deal with the probability of success with one lottery ticket.**"
   ]
  },
  {
   "cell_type": "code",
   "execution_count": 29,
   "metadata": {
    "collapsed": false
   },
   "outputs": [
    {
     "name": "stdout",
     "output_type": "stream",
     "text": [
      "Chance to win with [1, 3, 7, 28, 15, 48] are 0.0000072%. Or, you have a 1 in 13,983,816 chances to win.\n"
     ]
    }
   ],
   "source": [
    "def one_ticket_probability(user_input):\n",
    "    n_comb=combinations(49,6)\n",
    "    result= ('''Chance to win with {} are {:.7f}%. Or, you have a 1 in {:,} chances to win.'''.format(user_input,1/n_comb*100, int(n_comb)))\n",
    "    return result\n",
    "\n",
    "print(one_ticket_probability([1,3,7,28,15,48]))"
   ]
  },
  {
   "cell_type": "markdown",
   "metadata": {},
   "source": [
    "# Historical Data Check for Canada Lottery\n",
    "\n",
    "**While giving users data based mathematics is useful.  They may appreciate comparing with historical data.**\n",
    "\n",
    "**The data set contains historical data for 3,665 drawings (each row shows data for a single drawing), dating from 1982 to 2018**"
   ]
  },
  {
   "cell_type": "code",
   "execution_count": 30,
   "metadata": {
    "collapsed": false
   },
   "outputs": [
    {
     "name": "stdout",
     "output_type": "stream",
     "text": [
      "<class 'pandas.core.frame.DataFrame'>\n",
      "RangeIndex: 3665 entries, 0 to 3664\n",
      "Data columns (total 11 columns):\n",
      "PRODUCT            3665 non-null int64\n",
      "DRAW NUMBER        3665 non-null int64\n",
      "SEQUENCE NUMBER    3665 non-null int64\n",
      "DRAW DATE          3665 non-null object\n",
      "NUMBER DRAWN 1     3665 non-null int64\n",
      "NUMBER DRAWN 2     3665 non-null int64\n",
      "NUMBER DRAWN 3     3665 non-null int64\n",
      "NUMBER DRAWN 4     3665 non-null int64\n",
      "NUMBER DRAWN 5     3665 non-null int64\n",
      "NUMBER DRAWN 6     3665 non-null int64\n",
      "BONUS NUMBER       3665 non-null int64\n",
      "dtypes: int64(10), object(1)\n",
      "memory usage: 315.0+ KB\n",
      "None\n",
      "   PRODUCT  DRAW NUMBER  SEQUENCE NUMBER  DRAW DATE  NUMBER DRAWN 1  \\\n",
      "0      649            1                0  6/12/1982               3   \n",
      "1      649            2                0  6/19/1982               8   \n",
      "2      649            3                0  6/26/1982               1   \n",
      "\n",
      "   NUMBER DRAWN 2  NUMBER DRAWN 3  NUMBER DRAWN 4  NUMBER DRAWN 5  \\\n",
      "0              11              12              14              41   \n",
      "1              33              36              37              39   \n",
      "2               6              23              24              27   \n",
      "\n",
      "   NUMBER DRAWN 6  BONUS NUMBER  \n",
      "0              43            13  \n",
      "1              41             9  \n",
      "2              39            34  \n",
      "      PRODUCT  DRAW NUMBER  SEQUENCE NUMBER  DRAW DATE  NUMBER DRAWN 1  \\\n",
      "3662      649         3589                0  6/13/2018               6   \n",
      "3663      649         3590                0  6/16/2018               2   \n",
      "3664      649         3591                0  6/20/2018              14   \n",
      "\n",
      "      NUMBER DRAWN 2  NUMBER DRAWN 3  NUMBER DRAWN 4  NUMBER DRAWN 5  \\\n",
      "3662              22              24              31              32   \n",
      "3663              15              21              31              38   \n",
      "3664              24              31              35              37   \n",
      "\n",
      "      NUMBER DRAWN 6  BONUS NUMBER  \n",
      "3662              34            16  \n",
      "3663              49             8  \n",
      "3664              48            17  \n"
     ]
    }
   ],
   "source": [
    "df=pd.read_csv('649.csv')\n",
    "print(df.info())\n",
    "print(df.head(3))\n",
    "print(df.tail(3))"
   ]
  },
  {
   "cell_type": "code",
   "execution_count": 31,
   "metadata": {
    "collapsed": false
   },
   "outputs": [
    {
     "data": {
      "text/plain": [
       "0      {3, 41, 11, 12, 43, 14}\n",
       "1      {33, 36, 37, 39, 8, 41}\n",
       "2       {1, 6, 39, 23, 24, 27}\n",
       "3       {3, 9, 10, 43, 13, 20}\n",
       "4      {34, 5, 14, 47, 21, 31}\n",
       "5      {8, 41, 20, 21, 25, 31}\n",
       "6     {33, 36, 42, 18, 25, 28}\n",
       "7      {7, 40, 16, 17, 48, 31}\n",
       "8      {5, 38, 37, 10, 23, 27}\n",
       "9      {4, 37, 46, 15, 48, 30}\n",
       "10      {33, 38, 7, 9, 42, 21}\n",
       "11    {36, 11, 43, 17, 19, 20}\n",
       "12     {37, 7, 14, 47, 17, 20}\n",
       "13    {35, 44, 25, 28, 29, 30}\n",
       "14     {36, 39, 8, 41, 47, 18}\n",
       "15     {9, 12, 13, 14, 44, 48}\n",
       "16     {4, 40, 43, 44, 14, 18}\n",
       "17    {34, 35, 36, 13, 16, 18}\n",
       "18    {36, 11, 23, 25, 28, 29}\n",
       "19     {37, 7, 45, 18, 23, 25}\n",
       "dtype: object"
      ]
     },
     "execution_count": 31,
     "metadata": {},
     "output_type": "execute_result"
    }
   ],
   "source": [
    "# function returns winning numbers from specified row number.\n",
    "def extract_numbers(row):\n",
    "    win_num=row[4:10]\n",
    "    return set(win_num)\n",
    "\n",
    "#create dataframe containing all winning number sequences.\n",
    "winning_numbers=df.apply(extract_numbers, axis=1)\n",
    "winning_numbers.head(20)"
   ]
  },
  {
   "cell_type": "code",
   "execution_count": 32,
   "metadata": {
    "collapsed": false
   },
   "outputs": [
    {
     "name": "stdout",
     "output_type": "stream",
     "text": [
      "[3, 41, 11, 12, 43, 14] combination has occured 1 times in past winnings\n"
     ]
    }
   ],
   "source": [
    "def check_historical_occurence(user_input, winning_numbers):\n",
    "    user=set(user_input)\n",
    "    occurence=user==winning_numbers\n",
    "    n_occ=occurence.sum()\n",
    "    if n_occ==0:\n",
    "        return \"{} combination has never occured in past winnings\".format(user_input)\n",
    "    else:\n",
    "        return\"{} combination has occured {} times in past winnings\".format(user_input, n_occ)\n",
    "    \n",
    "print(check_historical_occurence([3, 41, 11, 12, 43, 14], winning_numbers))    "
   ]
  },
  {
   "cell_type": "code",
   "execution_count": 33,
   "metadata": {
    "collapsed": false
   },
   "outputs": [
    {
     "name": "stdout",
     "output_type": "stream",
     "text": [
      "[3, 41, 17, 12, 43, 14] combination has never occured in past winnings\n"
     ]
    }
   ],
   "source": [
    "print(check_historical_occurence([3, 41, 17, 12, 43, 14], winning_numbers))"
   ]
  },
  {
   "cell_type": "markdown",
   "metadata": {},
   "source": [
    "# Multi-Ticket Probability\n",
    "\n",
    "**Create function to stimulate multiple lottery tickets.**"
   ]
  },
  {
   "cell_type": "code",
   "execution_count": 34,
   "metadata": {
    "collapsed": false
   },
   "outputs": [
    {
     "name": "stdout",
     "output_type": "stream",
     "text": [
      "Chance to win are 0.0000072%. Or, you have a 1 in 13,983,816 chances to win.\n",
      "Chance to win are 0.0000215%. Or, you have a 3 in 13,983,816 chances to win.\n",
      "Chance to win are 0.0007151%. Or, you have a 100 in 13,983,816 chances to win.\n",
      "Chance to win are 7.1511238%. Or, you have a 1000000 in 13,983,816 chances to win.\n"
     ]
    }
   ],
   "source": [
    "def multi_ticket_probability(num_tickets=1):\n",
    "    n_comb=combinations(49,6)\n",
    "    prob=num_tickets/n_comb\n",
    "#     for i in range(num_tickets,0,-1):\n",
    "#         prob+=(1/n_comb)\n",
    "    return '''Chance to win are {:.7f}%. Or, you have a {} in {:,} chances to win.'''.format(prob*100, num_tickets, int(n_comb)) \n",
    "\n",
    "\n",
    "print(multi_ticket_probability(1))\n",
    "print(multi_ticket_probability(3))\n",
    "print(multi_ticket_probability(100))\n",
    "print(multi_ticket_probability(1000000))\n",
    "\n",
    "            "
   ]
  },
  {
   "cell_type": "markdown",
   "metadata": {},
   "source": [
    "# Less Winning Numbers\n",
    "\n",
    "**Create function for probability of matching 5 or less numbers for smaller prizes**"
   ]
  },
  {
   "cell_type": "code",
   "execution_count": 36,
   "metadata": {
    "collapsed": false
   },
   "outputs": [
    {
     "name": "stdout",
     "output_type": "stream",
     "text": [
      "Chance to win are 1.7650404%.\n"
     ]
    }
   ],
   "source": [
    "def probability_less_6(n_winning_numbers):\n",
    "    n_comb_ticket = combinations(6, n_winning_numbers)\n",
    "    n_comb_rem = combinations(43, 6 - n_winning_numbers)\n",
    "    successful_outcomes = n_comb_ticket * n_comb_rem\n",
    "    \n",
    "    n_combinations_total = combinations(49, 6)    \n",
    "    probability = successful_outcomes / n_combinations_total\n",
    "    \n",
    "    probability_percentage = probability * 100    \n",
    "    combinations_simplified = round(n_combinations_total/successful_outcomes)\n",
    "    return 'Chance to win are {:.7f}%.'.format(probability_percentage)\n",
    "\n",
    "print(probability_less_6(3))"
   ]
  }
 ],
 "metadata": {
  "kernelspec": {
   "display_name": "Python 3",
   "language": "python",
   "name": "python3"
  },
  "language_info": {
   "codemirror_mode": {
    "name": "ipython",
    "version": 3
   },
   "file_extension": ".py",
   "mimetype": "text/x-python",
   "name": "python",
   "nbconvert_exporter": "python",
   "pygments_lexer": "ipython3",
   "version": "3.4.3"
  }
 },
 "nbformat": 4,
 "nbformat_minor": 2
}
